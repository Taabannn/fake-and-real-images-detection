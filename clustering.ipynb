{
  "nbformat": 4,
  "nbformat_minor": 0,
  "metadata": {
    "colab": {
      "provenance": []
    },
    "kernelspec": {
      "name": "python3",
      "display_name": "Python 3"
    },
    "language_info": {
      "name": "python"
    }
  },
  "cells": [
    {
      "cell_type": "markdown",
      "source": [
        "وارد کردن کتابخانه‌های مورد نیاز"
      ],
      "metadata": {
        "id": "7i3iYGXxRhVz"
      }
    },
    {
      "cell_type": "code",
      "execution_count": null,
      "metadata": {
        "id": "DlruXEIZRbRm"
      },
      "outputs": [],
      "source": [
        "import numpy as np\n",
        "import pandas as pd\n",
        "import matplotlib.pyplot as plt\n",
        "from sklearn.decomposition import PCA\n",
        "from sklearn.mixture import GaussianMixture\n",
        "from sklearn.cluster import KMeans\n",
        "from scipy.cluster import hierarchy\n",
        "import random\n"
      ]
    },
    {
      "cell_type": "markdown",
      "source": [
        "فراخوانی داده‌ها و تعداد خوشه‌ها"
      ],
      "metadata": {
        "id": "ML7fdOWoRs6u"
      }
    },
    {
      "cell_type": "code",
      "source": [
        "# Read the feature data from CSV\n",
        "data = pd.read_csv('feature_extraction_data_analysis (2).csv')\n",
        "X = data.iloc[:,1:43].values\n",
        "\n",
        "# Perform clustering with different numbers of clusters\n",
        "n_clusters = [2, 3, 6, 9, 50]"
      ],
      "metadata": {
        "id": "Dm6dyS8fRscn"
      },
      "execution_count": null,
      "outputs": []
    },
    {
      "cell_type": "markdown",
      "source": [
        "خوشه بندی با کمک GMM"
      ],
      "metadata": {
        "id": "AsuDt5-HR2j5"
      }
    },
    {
      "cell_type": "code",
      "source": [
        "for n in n_clusters:\n",
        "    # Fit GMM to the data\n",
        "    gmm = GaussianMixture(n_components=n)\n",
        "    gmm.fit(X)\n",
        "\n",
        "    # Predict cluster labels\n",
        "    labels = gmm.predict(X)\n",
        "\n",
        "    # Create a dictionary to store the cluster points\n",
        "    cluster_points = {i: [] for i in range(n)}\n",
        "\n",
        "    for i, label in enumerate(labels):\n",
        "        cluster_points[label].append(i)\n",
        "\n",
        "    # Print three random points from each cluster\n",
        "    for cluster, points in cluster_points.items():\n",
        "        random_points = random.sample(points, min(3, len(points)))\n",
        "        print(f\"Random points from GMM cluster {cluster}: {random_points}\")\n",
        "\n",
        "    # Apply PCA for visualization\n",
        "    pca = PCA(n_components=2)\n",
        "    X_pca = pca.fit_transform(X)\n",
        "\n",
        "    # Plot the clusters\n",
        "    plt.scatter(X_pca[:, 0], X_pca[:, 1], c=labels, cmap='viridis')\n",
        "    plt.xlabel('Principal Component 1')\n",
        "    plt.ylabel('Principal Component 2')\n",
        "    plt.title(f'GMM Clustering with {n} clusters')\n",
        "    plt.show()"
      ],
      "metadata": {
        "id": "b-Qvn4GYR6wa"
      },
      "execution_count": null,
      "outputs": []
    },
    {
      "cell_type": "markdown",
      "source": [
        "روش kmeans"
      ],
      "metadata": {
        "id": "uhTP9NgjR75W"
      }
    },
    {
      "cell_type": "code",
      "source": [
        "        for n in n_clusters:\n",
        "            # Fit K-means to the data\n",
        "            kmeans = KMeans(n_clusters=n)\n",
        "            kmeans.fit(X)\n",
        "\n",
        "            # Predict cluster labels\n",
        "            labels = kmeans.labels_\n",
        "            # Predict cluster labels\n",
        "            labels = kmeans.predict(X)\n",
        "\n",
        "            # Create a dictionary to store the cluster points\n",
        "            cluster_points = {i: [] for i in range(n)}\n",
        "\n",
        "            for i, label in enumerate(labels):\n",
        "                cluster_points[label].append(i)\n",
        "\n",
        "            # Print three random points from each cluster\n",
        "            for cluster, points in cluster_points.items():\n",
        "                random_points = random.sample(points, min(3, len(points)))\n",
        "                print(f\"Random points from KMM cluster {cluster}: {random_points}\")\n",
        "\n",
        "            # Apply PCA for visualization\n",
        "            pca = PCA(n_components=2)\n",
        "            X_pca = pca.fit_transform(X)\n",
        "\n",
        "            # Plot the clusters\n",
        "            plt.scatter(X_pca[:, 0], X_pca[:, 1], c=labels, cmap='viridis')\n",
        "            plt.xlabel('Principal Component 1')\n",
        "            plt.ylabel('Principal Component 2')\n",
        "            plt.title(f'K-means Clustering with {n} clusters')\n",
        "            plt.show()"
      ],
      "metadata": {
        "id": "L8yETB4XSBPC"
      },
      "execution_count": null,
      "outputs": []
    },
    {
      "cell_type": "markdown",
      "source": [
        "روش HAC"
      ],
      "metadata": {
        "id": "0wg6rM9PSB-o"
      }
    },
    {
      "cell_type": "code",
      "source": [
        "# Hierarchical Clustering\n",
        "for n in n_clusters:\n",
        "    # Perform hierarchical clustering\n",
        "    linkage = hierarchy.linkage(X, method='ward')\n",
        "    labels = hierarchy.cut_tree(linkage, n_clusters=n).flatten()\n",
        "\n",
        "    # Apply PCA for visualization\n",
        "    pca = PCA(n_components=2)\n",
        "    X_pca = pca.fit_transform(X)\n",
        "\n",
        "    # Create a dictionary to store the cluster points\n",
        "    cluster_points = {i: [] for i in range(n)}\n",
        "\n",
        "    for i, label in enumerate(labels):\n",
        "        cluster_points[label].append(i)\n",
        "\n",
        "    # Print three random points from each cluster\n",
        "    for cluster, points in cluster_points.items():\n",
        "        random_points = random.sample(points, min(3, len(points)))\n",
        "        print(f\"Random points from HAC cluster {cluster}: {random_points}\")\n",
        "\n",
        "    # Plot the clusters\n",
        "    plt.scatter(X_pca[:, 0], X_pca[:, 1], c=labels, cmap='viridis')\n",
        "    plt.xlabel('Principal Component 1')\n",
        "    plt.ylabel('Principal Component 2')\n",
        "    plt.title(f'Hierarchical Clustering with {n} clusters')\n",
        "    plt.show()\n"
      ],
      "metadata": {
        "id": "8Hl8DIm9SFJM"
      },
      "execution_count": null,
      "outputs": []
    }
  ]
}